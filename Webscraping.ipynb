{
 "cells": [
  {
   "cell_type": "code",
   "execution_count": null,
   "metadata": {},
   "outputs": [],
   "source": [
    "\n",
    "# Virtual env\n",
    "## webscraping\\Scripts\\Activate.ps1\n",
    "\n",
    "# Scraping\n",
    "## https://docs.scrapy.org/en/latest/topics/commands.html\n",
    "\n",
    "## scrapy startproject myproject [project_dir]\n",
    "\"\"\"That will create a Scrapy project under the project_dir directory.\n",
    " If project_dir wasn’t specified, project_dir will be the same as myproject\"\"\"\n",
    "\n",
    "## cd project_dir\n",
    "\n",
    "\"\"\"Add code\"\"\"\n",
    "\n",
    "## scrapy genspider mydomain mydomain.com\n",
    "\n",
    "## to run \n",
    "# scrapy crawl bookspider\n",
    "# scrapy crawl bookspider -o bookdata.json # to save to a file"
   ]
  },
  {
   "cell_type": "code",
   "execution_count": null,
   "metadata": {},
   "outputs": [],
   "source": []
  }
 ],
 "metadata": {
  "language_info": {
   "name": "python"
  }
 },
 "nbformat": 4,
 "nbformat_minor": 2
}
